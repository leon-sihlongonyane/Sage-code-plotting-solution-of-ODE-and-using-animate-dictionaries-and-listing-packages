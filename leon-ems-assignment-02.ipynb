{
 "cells": [
  {
   "cell_type": "markdown",
   "id": "shared-computer",
   "metadata": {},
   "source": [
    "### LEON MANGALISO SIHLONGONYANE"
   ]
  },
  {
   "cell_type": "markdown",
   "id": "extra-condition",
   "metadata": {},
   "source": [
    "## Question 01\n",
    "Ordinary Differential Equations: \n",
    "***\n",
    "\n",
    "* Function: $y = f(x)$ \n",
    "\n",
    "* Order $n$: $y^{(n)} = \\frac{d^{n}f(x)}{dx^{n}}$\n",
    "\n",
    "* Homogeinity: $\\alpha \\frac{d^{n}f(x)}{dx^{n}}+ \\beta \\frac{d^{n-1}f(x)}{dx^{n-1}} + ... + f(x) =k= 0$ if $k \\neq 0$ there is no homogeinity.\n",
    "\n",
    "* General solution: $y(x)$ from $\\alpha\\,r^{n}+\\beta\\,r^{n-1}+...+1 = 0$.\n",
    "***\n",
    "\n",
    "* For $2^{nd}$ order, we may have general solution as $y(x)= k_1\\,e^{r_1\\,x}+k_2\\,e^{r_2\\,x}$ were $a\\,r^2+b\\,r+1 = 0$ and $r= \\frac{-b \\pm \\sqrt{b^2-4\\,a\\,c}}{2\\,a}$ with $a=\\alpha$ and $b=\\beta$\n",
    "\n",
    "* Example:$ 2\\frac{d^{2}f(x)}{dx^{2}}+ 3 \\frac{df(x)}{dx} + f(x) = 2y^{(2)}+3y^{(1)}+1 =0$. So we $2\\,r^2+3\\,r+1 = 0$ and $a=2\\,,b=3$.\n",
    "* Solution: $y(x) = k_1\\,e^{-0.5\\,x}+k_2\\,e^{-x}$ since $r_1 = -0.5$ and $r_2 = -1$.\n",
    "\n",
    "One find coefficients in the general solution by applying initial conditions."
   ]
  },
  {
   "cell_type": "markdown",
   "id": "automatic-accordance",
   "metadata": {},
   "source": []
  },
  {
   "cell_type": "markdown",
   "id": "first-oxide",
   "metadata": {},
   "source": [
    "We use SageMath examples"
   ]
  },
  {
   "cell_type": "code",
   "execution_count": 2,
   "id": "painted-samba",
   "metadata": {},
   "outputs": [
    {
     "data": {
      "text/html": [
       "<html><script type=\"math/tex; mode=display\">\\newcommand{\\Bold}[1]{\\mathbf{#1}}K_{1} e^{\\left(-\\frac{1}{2} \\, x\\right)} + K_{2} e^{\\left(-x\\right)}</script></html>"
      ],
      "text/latex": [
       "\\begin{math}\n",
       "\\newcommand{\\Bold}[1]{\\mathbf{#1}}K_{1} e^{\\left(-\\frac{1}{2} \\, x\\right)} + K_{2} e^{\\left(-x\\right)}\n",
       "\\end{math}"
      ],
      "text/plain": [
       "_K1*e^(-1/2*x) + _K2*e^(-x)"
      ]
     },
     "metadata": {},
     "output_type": "display_data"
    }
   ],
   "source": [
    "x=var('x')  #making variable x\n",
    "f = function('f')(x) #function that takes the varaible\n",
    "de=f + 3*diff(f,x)+2*diff(f,x,2)==0\n",
    "solve_ode = desolve(de,f)   #solving the ode\n",
    "show(solve_ode) #shows general solution"
   ]
  },
  {
   "cell_type": "code",
   "execution_count": 3,
   "id": "distinct-kernel",
   "metadata": {},
   "outputs": [
    {
     "data": {
      "text/html": [
       "<html><script type=\"math/tex; mode=display\">\\newcommand{\\Bold}[1]{\\mathbf{#1}}f\\left(x\\right) + 3 \\, \\frac{\\partial}{\\partial x}f\\left(x\\right) + 2 \\, \\frac{\\partial^{2}}{(\\partial x)^{2}}f\\left(x\\right) = 0</script></html>"
      ],
      "text/latex": [
       "\\begin{math}\n",
       "\\newcommand{\\Bold}[1]{\\mathbf{#1}}f\\left(x\\right) + 3 \\, \\frac{\\partial}{\\partial x}f\\left(x\\right) + 2 \\, \\frac{\\partial^{2}}{(\\partial x)^{2}}f\\left(x\\right) = 0\n",
       "\\end{math}"
      ],
      "text/plain": [
       "f(x) + 3*diff(f(x), x) + 2*diff(f(x), x, x) == 0"
      ]
     },
     "metadata": {},
     "output_type": "display_data"
    }
   ],
   "source": [
    "show(f + 3*diff(f,x)+2*diff(f,x,2)==0)  #displaying ODE"
   ]
  },
  {
   "cell_type": "code",
   "execution_count": 5,
   "id": "subsequent-settle",
   "metadata": {},
   "outputs": [
    {
     "data": {
      "text/plain": [
       "[_K1*e^(-1/2*x) + _K2*e^(-x), 'constcoeff']"
      ]
     },
     "execution_count": 5,
     "metadata": {},
     "output_type": "execute_result"
    }
   ],
   "source": [
    "a=desolve(de,f,show_method=True) #test:linearity, separable, constant coeffients, exact, so on.\n",
    "a"
   ]
  },
  {
   "cell_type": "code",
   "execution_count": 6,
   "id": "applicable-nancy",
   "metadata": {},
   "outputs": [
    {
     "data": {
      "text/plain": [
       "8*e^(-1/2*x) - 5*e^(-x)"
      ]
     },
     "execution_count": 6,
     "metadata": {},
     "output_type": "execute_result"
    }
   ],
   "source": [
    "solve_ode=desolve(de,f,[0,3,1],show_method=False) # initial conditions to find particular solution.\n",
    "solve_ode"
   ]
  },
  {
   "cell_type": "code",
   "execution_count": 7,
   "id": "rental-compiler",
   "metadata": {},
   "outputs": [
    {
     "data": {
      "image/png": "[encoded data removed]",
      "text/plain": [
       "Graphics object consisting of 1 graphics primitive"
      ]
     },
     "execution_count": 7,
     "metadata": {},
     "output_type": "execute_result"
    }
   ],
   "source": [
    "plot(solve_ode, (x,0,5)) #plotting solution of ODE."
   ]
  },
  {
   "cell_type": "code",
   "execution_count": null,
   "id": "pretty-montreal",
   "metadata": {},
   "outputs": [],
   "source": []
  },
  {
   "cell_type": "markdown",
   "id": "disciplinary-fiction",
   "metadata": {},
   "source": [
    "## Question 02"
   ]
  },
  {
   "cell_type": "markdown",
   "id": "going-termination",
   "metadata": {},
   "source": [
    "**Goal:** To prove that $a(a+1)(2a+1)$ is always divisible by $6$.\n",
    "***\n",
    "* For $P(a)$: we pick $a=1$: $$a(a+1)(2a+1)=1(1+1)(2(1)+1)=6$$ Clearly $6$ divides $6$.\n",
    "\n",
    "* Assume true for $P(a=k)$: $$k(k+1)(2k+1)= 6q$$ for $q \\in \\mathbb{Z}$\n",
    "\n",
    "* Proof for $P(a=k+1)$: \n",
    "\\begin{align}\n",
    "(k+1)(k+2)(2k+3) &=& 2\\,k^3 + 9\\,k^2+13\\,k + 6 \\\\\n",
    "LHS&=& 6\\,q -3\\,k^2-k +9\\,k^2 + 6 \\\\\n",
    "\\end{align}\n",
    "\n",
    "Were $2k^3=6\\,q-3\\,k^2-k$ from $n=k$\n",
    "\n",
    "$\\therefore$ LHS$= 6\\,q + 6\\,k^2 +12\\,k +6= 6(q+k^2+2\\,k + 1)=6\\,Z$,were $Z \\in \\mathbb{Z}$. Hence, $6$ divides $a(a+1)(2a+1)$"
   ]
  },
  {
   "cell_type": "markdown",
   "id": "opened-conclusion",
   "metadata": {},
   "source": [
    "## Question 03"
   ]
  },
  {
   "cell_type": "code",
   "execution_count": 11,
   "id": "contemporary-governor",
   "metadata": {},
   "outputs": [
    {
     "name": "stdout",
     "output_type": "stream",
     "text": [
      "verbose 0 (3835: plot.py, generate_plot_points) WARNING: When plotting, failed to evaluate function at 99 points.\n",
      "verbose 0 (3835: plot.py, generate_plot_points) Last error message: 'can't convert complex to float'\n",
      "verbose 0 (3835: plot.py, generate_plot_points) WARNING: When plotting, failed to evaluate function at 99 points.\n",
      "verbose 0 (3835: plot.py, generate_plot_points) Last error message: 'can't convert complex to float'\n",
      "verbose 0 (3835: plot.py, generate_plot_points) WARNING: When plotting, failed to evaluate function at 99 points.\n",
      "verbose 0 (3835: plot.py, generate_plot_points) Last error message: 'can't convert complex to float'\n",
      "verbose 0 (3835: plot.py, generate_plot_points) WARNING: When plotting, failed to evaluate function at 99 points.\n",
      "verbose 0 (3835: plot.py, generate_plot_points) Last error message: 'can't convert complex to float'\n",
      "verbose 0 (3835: plot.py, generate_plot_points) WARNING: When plotting, failed to evaluate function at 99 points.\n",
      "verbose 0 (3835: plot.py, generate_plot_points) Last error message: 'can't convert complex to float'\n"
     ]
    }
   ],
   "source": [
    "b= animate([plot(lambda x:sin(x**2 +3*x -2)**2 -a*cos(x) ,x,-2,2,color='red') for a in sxrange(0,1,.2) ])\n",
    "c=animate([plot(lambda x: x^x -x+c,x,-2,2,color='green') for c in sxrange(0,1,.2)])\n",
    "lattice= [ [i,j] for i in [-2..2] for j in [-2..2] ]\n",
    "lpoint= points(lattice, rgbcolor = (0, 0, 0), pointsize = 20)"
   ]
  },
  {
   "cell_type": "code",
   "execution_count": 9,
   "id": "consistent-browser",
   "metadata": {},
   "outputs": [],
   "source": [
    "def r(c):\n",
    "    lattice= [ [i*c+1,j*c+1] for i in [-2..2] for j in [-2..2] ]\n",
    "    return plot(lambda x:sin(x**2 +3*x -2)**2 -c*cos(x) ,x,-2,2,color='red') + plot(lambda x: x^x -x+c,x,-2,2,color='green') + points(lattice, rgbcolor = (0, 0, 0), pointsize = 20)\n",
    "animate(r(c)  for c in sxrange(0,1,.2))"
   ]
  },
  {
   "cell_type": "markdown",
   "id": "posted-decision",
   "metadata": {},
   "source": [
    "## Question 4.\n"
   ]
  },
  {
   "cell_type": "code",
   "execution_count": 430,
   "id": "varying-shepherd",
   "metadata": {},
   "outputs": [
    {
     "ename": "IndentationError",
     "evalue": "unexpected indent (<ipython-input-430-a3e5645d32bb>, line 3)",
     "output_type": "error",
     "traceback": [
      "\u001b[0;36m  File \u001b[0;32m\"<ipython-input-430-a3e5645d32bb>\"\u001b[0;36m, line \u001b[0;32m3\u001b[0m\n\u001b[0;31m    var('y')\u001b[0m\n\u001b[0m    ^\u001b[0m\n\u001b[0;31mIndentationError\u001b[0m\u001b[0;31m:\u001b[0m unexpected indent\n"
     ]
    }
   ],
   "source": [
    "@interact\n",
    "def _(R=slider(2,3,5)): #primes\n",
    "    var('y')\n",
    "    bound= 25\n",
    "    P = implicit_plot( x^2 + y^2 == R^2, (x, -5,-3,2,3,5), (y, -5,-3,-2,2,3, 5 ))\n",
    "    lattice_pts = [ [i,j] for i in [floor(-sqrt(bound))..ceil(sqrt(bound))] for j in [floor(-sqrt(bound))..ceil(sqrt(bound))] ]\n",
    "    plot_lattice_pts = points(lattice_pts, rgbcolor = (0, 0, 0), pointsize = 10)\n",
    "    show(P+plot_lattice_pts)"
   ]
  },
  {
   "cell_type": "markdown",
   "id": "gorgeous-alert",
   "metadata": {},
   "source": [
    "## Question 05"
   ]
  },
  {
   "cell_type": "code",
   "execution_count": 136,
   "id": "stopped-assurance",
   "metadata": {},
   "outputs": [],
   "source": [
    "def sq_sum(num):  #DEFINING FUNCTION AS DICTIOANRY\n",
    "    qsum = {}  \n",
    "    for a in [0..num]:\n",
    "        for b in [0..num]:\n",
    "            m = a^2 + b^2\n",
    "            if m>0:\n",
    "                if m in qsum:\n",
    "                    qsum[m].append((a,b))\n",
    "                else:\n",
    "                    qsum.update({m:[(a,b),(b,a)]})\n",
    "    return qsum"
   ]
  },
  {
   "cell_type": "code",
   "execution_count": 137,
   "id": "ordered-certificate",
   "metadata": {},
   "outputs": [
    {
     "data": {
      "text/plain": [
       "{1: [(0, 1), (1, 0), (1, 0)],\n",
       " 4: [(0, 2), (2, 0), (2, 0)],\n",
       " 9: [(0, 3), (3, 0), (3, 0)],\n",
       " 16: [(0, 4), (4, 0), (4, 0)],\n",
       " 25: [(0, 5), (5, 0), (3, 4), (4, 3), (5, 0)],\n",
       " 2: [(1, 1), (1, 1)],\n",
       " 5: [(1, 2), (2, 1), (2, 1)],\n",
       " 10: [(1, 3), (3, 1), (3, 1)],\n",
       " 17: [(1, 4), (4, 1), (4, 1)],\n",
       " 26: [(1, 5), (5, 1), (5, 1)],\n",
       " 8: [(2, 2), (2, 2)],\n",
       " 13: [(2, 3), (3, 2), (3, 2)],\n",
       " 20: [(2, 4), (4, 2), (4, 2)],\n",
       " 29: [(2, 5), (5, 2), (5, 2)],\n",
       " 18: [(3, 3), (3, 3)],\n",
       " 34: [(3, 5), (5, 3), (5, 3)],\n",
       " 32: [(4, 4), (4, 4)],\n",
       " 41: [(4, 5), (5, 4), (5, 4)],\n",
       " 50: [(5, 5), (5, 5)]}"
      ]
     },
     "execution_count": 137,
     "metadata": {},
     "output_type": "execute_result"
    }
   ],
   "source": [
    "sq_sum(5)"
   ]
  },
  {
   "cell_type": "code",
   "execution_count": 138,
   "id": "advance-bangkok",
   "metadata": {},
   "outputs": [
    {
     "data": {
      "text/plain": [
       "{1: [(0, 1), (1, 0), (1, 0)],\n",
       " 9: [(0, 3), (3, 0), (3, 0)],\n",
       " 25: [(0, 5), (5, 0), (3, 4), (4, 3), (5, 0)],\n",
       " 5: [(1, 2), (2, 1), (2, 1)],\n",
       " 17: [(1, 4), (4, 1), (4, 1)],\n",
       " 13: [(2, 3), (3, 2), (3, 2)],\n",
       " 29: [(2, 5), (5, 2), (5, 2)],\n",
       " 41: [(4, 5), (5, 4), (5, 4)]}"
      ]
     },
     "execution_count": 138,
     "metadata": {},
     "output_type": "execute_result"
    }
   ],
   "source": [
    "qEven={m:qsum[m] for m in qsum if is_even(m)}\n",
    "qOdd={m:qsum[m] for m in qsum if is_odd(m)}\n",
    "qOdd"
   ]
  },
  {
   "cell_type": "code",
   "execution_count": 139,
   "id": "public-corpus",
   "metadata": {},
   "outputs": [
    {
     "data": {
      "text/plain": [
       "{4: [(0, 2), (2, 0), (2, 0)],\n",
       " 16: [(0, 4), (4, 0), (4, 0)],\n",
       " 2: [(1, 1), (1, 1)],\n",
       " 10: [(1, 3), (3, 1), (3, 1)],\n",
       " 26: [(1, 5), (5, 1), (5, 1)],\n",
       " 8: [(2, 2), (2, 2)],\n",
       " 20: [(2, 4), (4, 2), (4, 2)],\n",
       " 18: [(3, 3), (3, 3)],\n",
       " 34: [(3, 5), (5, 3), (5, 3)],\n",
       " 32: [(4, 4), (4, 4)],\n",
       " 50: [(5, 5), (5, 5)]}"
      ]
     },
     "execution_count": 139,
     "metadata": {},
     "output_type": "execute_result"
    }
   ],
   "source": [
    "qEven"
   ]
  },
  {
   "cell_type": "code",
   "execution_count": 140,
   "id": "appreciated-serbia",
   "metadata": {},
   "outputs": [
    {
     "data": {
      "text/html": [
       "<div class=\"notruncate\">\n",
       "<table  class=\"table_form\">\n",
       "<tbody>\n",
       "<tr>\n",
       "<th><script type=\"math/tex\">Even</script></th>\n",
       "<th><script type=\"math/tex\">Odd</script></th>\n",
       "</tr>\n",
       "<tr class =\"row-a\">\n",
       "<td><script type=\"math/tex\">4</script></td>\n",
       "<td><script type=\"math/tex\">1</script></td>\n",
       "</tr>\n",
       "<tr class =\"row-b\">\n",
       "<td><script type=\"math/tex\">16</script></td>\n",
       "<td><script type=\"math/tex\">9</script></td>\n",
       "</tr>\n",
       "<tr class =\"row-a\">\n",
       "<td><script type=\"math/tex\">2</script></td>\n",
       "<td><script type=\"math/tex\">25</script></td>\n",
       "</tr>\n",
       "<tr class =\"row-b\">\n",
       "<td><script type=\"math/tex\">10</script></td>\n",
       "<td><script type=\"math/tex\">5</script></td>\n",
       "</tr>\n",
       "<tr class =\"row-a\">\n",
       "<td><script type=\"math/tex\">26</script></td>\n",
       "<td><script type=\"math/tex\">17</script></td>\n",
       "</tr>\n",
       "<tr class =\"row-b\">\n",
       "<td><script type=\"math/tex\">8</script></td>\n",
       "<td><script type=\"math/tex\">13</script></td>\n",
       "</tr>\n",
       "<tr class =\"row-a\">\n",
       "<td><script type=\"math/tex\">20</script></td>\n",
       "<td><script type=\"math/tex\">29</script></td>\n",
       "</tr>\n",
       "<tr class =\"row-b\">\n",
       "<td><script type=\"math/tex\">18</script></td>\n",
       "<td><script type=\"math/tex\">41</script></td>\n",
       "</tr>\n",
       "</tbody>\n",
       "</table>\n",
       "</div>"
      ],
      "text/plain": [
       "  $Even$   $Odd$\n",
       "+--------+-------+\n",
       "  4        1\n",
       "  16       9\n",
       "  2        25\n",
       "  10       5\n",
       "  26       17\n",
       "  8        13\n",
       "  20       29\n",
       "  18       41"
      ]
     },
     "execution_count": 140,
     "metadata": {},
     "output_type": "execute_result"
    }
   ],
   "source": [
    "table([list(qEven.keys()),list(qOdd.keys())],header_column=[r'$Even$',r\"$Odd$\"]).transpose()"
   ]
  },
  {
   "cell_type": "code",
   "execution_count": 163,
   "id": "trained-corrections",
   "metadata": {},
   "outputs": [],
   "source": [
    "sq_prime_test=lambda num: {i^2+j^2: is_prime(i^2+j^2) for i in sq_sum(num) for j in qsum if is_prime(i) and is_prime(j)}"
   ]
  },
  {
   "cell_type": "code",
   "execution_count": 164,
   "id": "aware-colleague",
   "metadata": {},
   "outputs": [
    {
     "data": {
      "text/plain": [
       "{8: False,\n",
       " 29: True,\n",
       " 293: True,\n",
       " 173: True,\n",
       " 845: False,\n",
       " 1685: False,\n",
       " 50: False,\n",
       " 314: False,\n",
       " 194: False,\n",
       " 866: False,\n",
       " 1706: False,\n",
       " 578: False,\n",
       " 458: False,\n",
       " 1130: False,\n",
       " 1970: False,\n",
       " 338: False,\n",
       " 1010: False,\n",
       " 1850: False,\n",
       " 1682: False,\n",
       " 2522: False,\n",
       " 3362: False}"
      ]
     },
     "execution_count": 164,
     "metadata": {},
     "output_type": "execute_result"
    }
   ],
   "source": [
    "sq_prime_test(5)  #test if sum of prime a prime. It is not always true, as shown by the examples of 'false'."
   ]
  },
  {
   "cell_type": "code",
   "execution_count": 298,
   "id": "native-adrian",
   "metadata": {},
   "outputs": [
    {
     "data": {
      "text/plain": [
       "{2: (1, 1),\n",
       " 17: (4, 1),\n",
       " 257: (16, 1),\n",
       " 5: (2, 1),\n",
       " 101: (10, 1),\n",
       " 677: (26, 1),\n",
       " 401: (20, 1),\n",
       " 97: (9, 4),\n",
       " 641: (25, 4),\n",
       " 41: (5, 4),\n",
       " 857: (29, 4),\n",
       " 1697: (41, 4),\n",
       " 337: (16, 9),\n",
       " 181: (10, 9),\n",
       " 757: (26, 9),\n",
       " 1237: (34, 9),\n",
       " 881: (25, 16),\n",
       " 281: (5, 16),\n",
       " 1097: (29, 16),\n",
       " 1301: (26, 25),\n",
       " 29: (5, 2),\n",
       " 293: (17, 2),\n",
       " 173: (13, 2),\n",
       " 701: (26, 5),\n",
       " 89: (8, 5),\n",
       " 349: (18, 5),\n",
       " 1181: (34, 5),\n",
       " 1049: (32, 5),\n",
       " 389: (17, 10),\n",
       " 269: (13, 10),\n",
       " 941: (29, 10),\n",
       " 353: (8, 17),\n",
       " 613: (18, 17),\n",
       " 2789: (50, 17),\n",
       " 2357: (41, 26),\n",
       " 233: (13, 8),\n",
       " 569: (20, 13),\n",
       " 1193: (32, 13),\n",
       " 2081: (41, 20),\n",
       " 1997: (34, 29),\n",
       " 2837: (41, 34)}"
      ]
     },
     "execution_count": 298,
     "metadata": {},
     "output_type": "execute_result"
    }
   ],
   "source": [
    "sq_prime_db={i^2+j^2:(i,j) for i in qsum for j in qsum if is_prime(i^2+j^2)}  #dataBase for sum of primes. It is not clear since they can take any numbers of even or odd.\n",
    "sq_prime_db"
   ]
  },
  {
   "cell_type": "code",
   "execution_count": 293,
   "id": "intense-modem",
   "metadata": {},
   "outputs": [
    {
     "data": {
      "text/html": [
       "<div class=\"notruncate\">\n",
       "<table  class=\"table_form\">\n",
       "<tbody>\n",
       "<tr>\n",
       "<th><script type=\"math/tex\">primeKeys</script></th>\n",
       "<th><script type=\"math/tex\">sumValues</script></th>\n",
       "</tr>\n",
       "<tr class =\"row-a\">\n",
       "<td><script type=\"math/tex\">2</script></td>\n",
       "<td><script type=\"math/tex\">\\left(1, 1\\right)</script></td>\n",
       "</tr>\n",
       "<tr class =\"row-b\">\n",
       "<td><script type=\"math/tex\">17</script></td>\n",
       "<td><script type=\"math/tex\">\\left(4, 1\\right)</script></td>\n",
       "</tr>\n",
       "<tr class =\"row-a\">\n",
       "<td><script type=\"math/tex\">257</script></td>\n",
       "<td><script type=\"math/tex\">\\left(16, 1\\right)</script></td>\n",
       "</tr>\n",
       "<tr class =\"row-b\">\n",
       "<td><script type=\"math/tex\">5</script></td>\n",
       "<td><script type=\"math/tex\">\\left(2, 1\\right)</script></td>\n",
       "</tr>\n",
       "<tr class =\"row-a\">\n",
       "<td><script type=\"math/tex\">101</script></td>\n",
       "<td><script type=\"math/tex\">\\left(10, 1\\right)</script></td>\n",
       "</tr>\n",
       "<tr class =\"row-b\">\n",
       "<td><script type=\"math/tex\">677</script></td>\n",
       "<td><script type=\"math/tex\">\\left(26, 1\\right)</script></td>\n",
       "</tr>\n",
       "<tr class =\"row-a\">\n",
       "<td><script type=\"math/tex\">401</script></td>\n",
       "<td><script type=\"math/tex\">\\left(20, 1\\right)</script></td>\n",
       "</tr>\n",
       "<tr class =\"row-b\">\n",
       "<td><script type=\"math/tex\">97</script></td>\n",
       "<td><script type=\"math/tex\">\\left(9, 4\\right)</script></td>\n",
       "</tr>\n",
       "<tr class =\"row-a\">\n",
       "<td><script type=\"math/tex\">641</script></td>\n",
       "<td><script type=\"math/tex\">\\left(25, 4\\right)</script></td>\n",
       "</tr>\n",
       "<tr class =\"row-b\">\n",
       "<td><script type=\"math/tex\">41</script></td>\n",
       "<td><script type=\"math/tex\">\\left(5, 4\\right)</script></td>\n",
       "</tr>\n",
       "<tr class =\"row-a\">\n",
       "<td><script type=\"math/tex\">857</script></td>\n",
       "<td><script type=\"math/tex\">\\left(29, 4\\right)</script></td>\n",
       "</tr>\n",
       "<tr class =\"row-b\">\n",
       "<td><script type=\"math/tex\">1697</script></td>\n",
       "<td><script type=\"math/tex\">\\left(41, 4\\right)</script></td>\n",
       "</tr>\n",
       "<tr class =\"row-a\">\n",
       "<td><script type=\"math/tex\">337</script></td>\n",
       "<td><script type=\"math/tex\">\\left(16, 9\\right)</script></td>\n",
       "</tr>\n",
       "<tr class =\"row-b\">\n",
       "<td><script type=\"math/tex\">181</script></td>\n",
       "<td><script type=\"math/tex\">\\left(10, 9\\right)</script></td>\n",
       "</tr>\n",
       "<tr class =\"row-a\">\n",
       "<td><script type=\"math/tex\">757</script></td>\n",
       "<td><script type=\"math/tex\">\\left(26, 9\\right)</script></td>\n",
       "</tr>\n",
       "<tr class =\"row-b\">\n",
       "<td><script type=\"math/tex\">1237</script></td>\n",
       "<td><script type=\"math/tex\">\\left(34, 9\\right)</script></td>\n",
       "</tr>\n",
       "<tr class =\"row-a\">\n",
       "<td><script type=\"math/tex\">881</script></td>\n",
       "<td><script type=\"math/tex\">\\left(25, 16\\right)</script></td>\n",
       "</tr>\n",
       "<tr class =\"row-b\">\n",
       "<td><script type=\"math/tex\">281</script></td>\n",
       "<td><script type=\"math/tex\">\\left(5, 16\\right)</script></td>\n",
       "</tr>\n",
       "<tr class =\"row-a\">\n",
       "<td><script type=\"math/tex\">1097</script></td>\n",
       "<td><script type=\"math/tex\">\\left(29, 16\\right)</script></td>\n",
       "</tr>\n",
       "<tr class =\"row-b\">\n",
       "<td><script type=\"math/tex\">1301</script></td>\n",
       "<td><script type=\"math/tex\">\\left(26, 25\\right)</script></td>\n",
       "</tr>\n",
       "<tr class =\"row-a\">\n",
       "<td><script type=\"math/tex\">29</script></td>\n",
       "<td><script type=\"math/tex\">\\left(5, 2\\right)</script></td>\n",
       "</tr>\n",
       "<tr class =\"row-b\">\n",
       "<td><script type=\"math/tex\">293</script></td>\n",
       "<td><script type=\"math/tex\">\\left(17, 2\\right)</script></td>\n",
       "</tr>\n",
       "<tr class =\"row-a\">\n",
       "<td><script type=\"math/tex\">173</script></td>\n",
       "<td><script type=\"math/tex\">\\left(13, 2\\right)</script></td>\n",
       "</tr>\n",
       "<tr class =\"row-b\">\n",
       "<td><script type=\"math/tex\">701</script></td>\n",
       "<td><script type=\"math/tex\">\\left(26, 5\\right)</script></td>\n",
       "</tr>\n",
       "<tr class =\"row-a\">\n",
       "<td><script type=\"math/tex\">89</script></td>\n",
       "<td><script type=\"math/tex\">\\left(8, 5\\right)</script></td>\n",
       "</tr>\n",
       "<tr class =\"row-b\">\n",
       "<td><script type=\"math/tex\">349</script></td>\n",
       "<td><script type=\"math/tex\">\\left(18, 5\\right)</script></td>\n",
       "</tr>\n",
       "<tr class =\"row-a\">\n",
       "<td><script type=\"math/tex\">1181</script></td>\n",
       "<td><script type=\"math/tex\">\\left(34, 5\\right)</script></td>\n",
       "</tr>\n",
       "<tr class =\"row-b\">\n",
       "<td><script type=\"math/tex\">1049</script></td>\n",
       "<td><script type=\"math/tex\">\\left(32, 5\\right)</script></td>\n",
       "</tr>\n",
       "<tr class =\"row-a\">\n",
       "<td><script type=\"math/tex\">389</script></td>\n",
       "<td><script type=\"math/tex\">\\left(17, 10\\right)</script></td>\n",
       "</tr>\n",
       "<tr class =\"row-b\">\n",
       "<td><script type=\"math/tex\">269</script></td>\n",
       "<td><script type=\"math/tex\">\\left(13, 10\\right)</script></td>\n",
       "</tr>\n",
       "<tr class =\"row-a\">\n",
       "<td><script type=\"math/tex\">941</script></td>\n",
       "<td><script type=\"math/tex\">\\left(29, 10\\right)</script></td>\n",
       "</tr>\n",
       "<tr class =\"row-b\">\n",
       "<td><script type=\"math/tex\">353</script></td>\n",
       "<td><script type=\"math/tex\">\\left(8, 17\\right)</script></td>\n",
       "</tr>\n",
       "<tr class =\"row-a\">\n",
       "<td><script type=\"math/tex\">613</script></td>\n",
       "<td><script type=\"math/tex\">\\left(18, 17\\right)</script></td>\n",
       "</tr>\n",
       "<tr class =\"row-b\">\n",
       "<td><script type=\"math/tex\">2789</script></td>\n",
       "<td><script type=\"math/tex\">\\left(50, 17\\right)</script></td>\n",
       "</tr>\n",
       "<tr class =\"row-a\">\n",
       "<td><script type=\"math/tex\">2357</script></td>\n",
       "<td><script type=\"math/tex\">\\left(41, 26\\right)</script></td>\n",
       "</tr>\n",
       "<tr class =\"row-b\">\n",
       "<td><script type=\"math/tex\">233</script></td>\n",
       "<td><script type=\"math/tex\">\\left(13, 8\\right)</script></td>\n",
       "</tr>\n",
       "<tr class =\"row-a\">\n",
       "<td><script type=\"math/tex\">569</script></td>\n",
       "<td><script type=\"math/tex\">\\left(20, 13\\right)</script></td>\n",
       "</tr>\n",
       "<tr class =\"row-b\">\n",
       "<td><script type=\"math/tex\">1193</script></td>\n",
       "<td><script type=\"math/tex\">\\left(32, 13\\right)</script></td>\n",
       "</tr>\n",
       "<tr class =\"row-a\">\n",
       "<td><script type=\"math/tex\">2081</script></td>\n",
       "<td><script type=\"math/tex\">\\left(41, 20\\right)</script></td>\n",
       "</tr>\n",
       "<tr class =\"row-b\">\n",
       "<td><script type=\"math/tex\">1997</script></td>\n",
       "<td><script type=\"math/tex\">\\left(34, 29\\right)</script></td>\n",
       "</tr>\n",
       "<tr class =\"row-a\">\n",
       "<td><script type=\"math/tex\">2837</script></td>\n",
       "<td><script type=\"math/tex\">\\left(41, 34\\right)</script></td>\n",
       "</tr>\n",
       "</tbody>\n",
       "</table>\n",
       "</div>"
      ],
      "text/plain": [
       "  $primeKeys$   $sumValues$\n",
       "+-------------+-------------+\n",
       "  2             (1, 1)\n",
       "  17            (4, 1)\n",
       "  257           (16, 1)\n",
       "  5             (2, 1)\n",
       "  101           (10, 1)\n",
       "  677           (26, 1)\n",
       "  401           (20, 1)\n",
       "  97            (9, 4)\n",
       "  641           (25, 4)\n",
       "  41            (5, 4)\n",
       "  857           (29, 4)\n",
       "  1697          (41, 4)\n",
       "  337           (16, 9)\n",
       "  181           (10, 9)\n",
       "  757           (26, 9)\n",
       "  1237          (34, 9)\n",
       "  881           (25, 16)\n",
       "  281           (5, 16)\n",
       "  1097          (29, 16)\n",
       "  1301          (26, 25)\n",
       "  29            (5, 2)\n",
       "  293           (17, 2)\n",
       "  173           (13, 2)\n",
       "  701           (26, 5)\n",
       "  89            (8, 5)\n",
       "  349           (18, 5)\n",
       "  1181          (34, 5)\n",
       "  1049          (32, 5)\n",
       "  389           (17, 10)\n",
       "  269           (13, 10)\n",
       "  941           (29, 10)\n",
       "  353           (8, 17)\n",
       "  613           (18, 17)\n",
       "  2789          (50, 17)\n",
       "  2357          (41, 26)\n",
       "  233           (13, 8)\n",
       "  569           (20, 13)\n",
       "  1193          (32, 13)\n",
       "  2081          (41, 20)\n",
       "  1997          (34, 29)\n",
       "  2837          (41, 34)"
      ]
     },
     "execution_count": 293,
     "metadata": {},
     "output_type": "execute_result"
    }
   ],
   "source": [
    "table([list(sq_prime_db.keys()),list(sq_prime_db.values())],header_column=[r'$primeKeys$',r\"$sumValues$\"]).transpose()"
   ]
  },
  {
   "cell_type": "code",
   "execution_count": 295,
   "id": "norwegian-commons",
   "metadata": {},
   "outputs": [],
   "source": [
    "r3_mod_3={2*i:mod(2*i,3) for i in qsum.keys() if (mod(2*i,3) in qsum)}   #even modulo 3\n",
    "is_3_mod_3=set(r3_mod_3.items())"
   ]
  },
  {
   "cell_type": "code",
   "execution_count": 297,
   "id": "interpreted-oregon",
   "metadata": {},
   "outputs": [],
   "source": [
    "odd_mod_3={2*i+1:mod(2*i+1,3) for i in qsum.keys() if (mod(2*i+1,3) in qsum)}   #Odd modulo 3\n",
    "set_odd_mod_3=set(odd_mod_3.items())"
   ]
  },
  {
   "cell_type": "code",
   "execution_count": 290,
   "id": "potential-preserve",
   "metadata": {},
   "outputs": [
    {
     "data": {
      "text/html": [
       "<div class=\"notruncate\">\n",
       "<table  class=\"table_form\">\n",
       "<tbody>\n",
       "<tr>\n",
       "<th><script type=\"math/tex\">even~sum,mod4</script></th>\n",
       "<th><script type=\"math/tex\">odd~sum, mod4</script></th>\n",
       "</tr>\n",
       "<tr class =\"row-a\">\n",
       "<td><script type=\"math/tex\">\\left(2, 2\\right)</script></td>\n",
       "<td><script type=\"math/tex\">\\left(19, 1\\right)</script></td>\n",
       "</tr>\n",
       "<tr class =\"row-b\">\n",
       "<td><script type=\"math/tex\">\\left(8, 2\\right)</script></td>\n",
       "<td><script type=\"math/tex\">\\left(5, 2\\right)</script></td>\n",
       "</tr>\n",
       "<tr class =\"row-a\">\n",
       "<td><script type=\"math/tex\">\\left(32, 2\\right)</script></td>\n",
       "<td><script type=\"math/tex\">\\left(11, 2\\right)</script></td>\n",
       "</tr>\n",
       "<tr class =\"row-b\">\n",
       "<td><script type=\"math/tex\">\\left(50, 2\\right)</script></td>\n",
       "<td><script type=\"math/tex\">\\left(35, 2\\right)</script></td>\n",
       "</tr>\n",
       "<tr class =\"row-a\">\n",
       "<td><script type=\"math/tex\">\\left(4, 1\\right)</script></td>\n",
       "<td><script type=\"math/tex\">\\left(53, 2\\right)</script></td>\n",
       "</tr>\n",
       "<tr class =\"row-b\">\n",
       "<td><script type=\"math/tex\">\\left(10, 1\\right)</script></td>\n",
       "<td><script type=\"math/tex\">\\left(17, 2\\right)</script></td>\n",
       "</tr>\n",
       "<tr class =\"row-a\">\n",
       "<td><script type=\"math/tex\">\\left(20, 2\\right)</script></td>\n",
       "<td><script type=\"math/tex\">\\left(41, 2\\right)</script></td>\n",
       "</tr>\n",
       "<tr class =\"row-b\">\n",
       "<td><script type=\"math/tex\">\\left(34, 1\\right)</script></td>\n",
       "<td><script type=\"math/tex\">\\left(59, 2\\right)</script></td>\n",
       "</tr>\n",
       "<tr class =\"row-a\">\n",
       "<td><script type=\"math/tex\">\\left(52, 1\\right)</script></td>\n",
       "<td><script type=\"math/tex\">\\left(37, 1\\right)</script></td>\n",
       "</tr>\n",
       "<tr class =\"row-b\">\n",
       "<td><script type=\"math/tex\">\\left(16, 1\\right)</script></td>\n",
       "<td><script type=\"math/tex\">\\left(65, 2\\right)</script></td>\n",
       "</tr>\n",
       "<tr class =\"row-a\">\n",
       "<td><script type=\"math/tex\">\\left(26, 2\\right)</script></td>\n",
       "<td><script type=\"math/tex\">\\left(83, 2\\right)</script></td>\n",
       "</tr>\n",
       "<tr class =\"row-b\">\n",
       "<td><script type=\"math/tex\">\\left(40, 1\\right)</script></td>\n",
       "<td><script type=\"math/tex\">\\left(101, 2\\right)</script></td>\n",
       "</tr>\n",
       "</tbody>\n",
       "</table>\n",
       "</div>"
      ],
      "text/plain": [
       "  $even~sum,mod4$   $odd~sum, mod4$\n",
       "+-----------------+-----------------+\n",
       "  (2, 2)            (19, 1)\n",
       "  (8, 2)            (5, 2)\n",
       "  (32, 2)           (11, 2)\n",
       "  (50, 2)           (35, 2)\n",
       "  (4, 1)            (53, 2)\n",
       "  (10, 1)           (17, 2)\n",
       "  (20, 2)           (41, 2)\n",
       "  (34, 1)           (59, 2)\n",
       "  (52, 1)           (37, 1)\n",
       "  (16, 1)           (65, 2)\n",
       "  (26, 2)           (83, 2)\n",
       "  (40, 1)           (101, 2)"
      ]
     },
     "execution_count": 290,
     "metadata": {},
     "output_type": "execute_result"
    }
   ],
   "source": [
    "table([list(r3_mod_4.items()),list(odd_mod_4.items())],header_column=[r'$even~sum,mod4$',r\"$odd~sum, mod4$\"]).transpose()"
   ]
  },
  {
   "cell_type": "markdown",
   "id": "medical-reward",
   "metadata": {},
   "source": [
    "## Question 06"
   ]
  },
  {
   "cell_type": "markdown",
   "id": "australian-update",
   "metadata": {},
   "source": [
    "**1.**\n",
    "\n",
    "**Goal:** Given $x,y \\in \\mathbb{R}$ and $3\\,x +2\\,y \\leq 5$. Show that if $x > 1$, then $y < 1$.\n",
    "***\n",
    "**By direct proof.** \n",
    "\n",
    "We start with $3\\,x +2\\,y \\leq 5\\,$, then we get $$x \\leq \\frac{5-2\\,y}{3}$$.\n",
    "\n",
    "But since we given $x > 1$, then $$ 1 < x \\leq \\frac{5-2\\,y}{3}$$\n",
    "This implies $0 < 1-y$. Finaly, $y < 1$. \n",
    "***\n",
    "\n",
    "**2.**\n",
    "\n",
    "**Goal:** Given $x \\in \\mathbb{R}$ and $ x \\neq 4$. Show that if $\\frac {2\\,x-5}{x-4}=3$ then $x = 7$.\n",
    "***\n",
    "**(a)**\n",
    "\n",
    "*  P:   $\\frac {2\\,x-5}{x-4}$ is equal to $3$\n",
    "*  Q:    $x$ is equal to $7$.\n",
    "\n",
    "***\n",
    "\n",
    "$P \\implies Q$ not same as $Q \\implies P$, i.e, the implication is not true, mathematical. We cannot start with $x=7$ true to prove the first part of the proposition is true,i.e $\\frac {2\\,x-5}{x-4}=3$. Therefore, the proof method was wrong.\n",
    "\n",
    "**(b)**\n",
    "\n",
    "**By direct proof.** \n",
    "\n",
    "We start with $\\frac {2\\,x-5}{x-4} = 3$ provided that $x \\neq 4$ to avoid dividing by zero. We compute as follows $$(2\\,x-5)=3(x-4)=3\\,x-12 \\implies 12-5=3\\,x - 2\\,x \\implies 7 = x$$\n",
    "\n",
    "**3.**\n",
    "\n",
    "**Goal:** Given $x,y \\in \\mathbb{R}$ and $ x \\neq 3$. Show that if $ x^2\\,y = 9\\,y$ . Then $y =0$.\n",
    "***\n",
    "**(a)**\n",
    "\n",
    "The proof is wrong. The conclusion that  $x \\neq 3 \\implies x^2 \\neq 9$ cannot be right since we can get $(-3)^2-9=0$ for $x=-3 \\neq 3$. So the next step, would not allow, i.e dividing $x^2-9$ both sides of $(x^2-9)y=0$.\n",
    "\n",
    "**Proof.**\n",
    "\n",
    "\n",
    "We start $(x^2-9)\\,y = 0$. Since $x \\neq 3$\n",
    "\n",
    "**goal:** given $x \\neq 3$. if w start with $x^2\\,y=9\\,y$, then we end up with $y=0$.\n",
    "\n",
    "For this case, we can use examples to argue. Non trivial solutions of $x^2\\,y=9\\,y$ are $x=3$ or $x=-3$. But $x \\neq 3$. We pick $x=-3 \\neq 3$, then $((-3)^2-9)y=(9-9)y=0\\,y=0$ this implies $y=0$. We done. "
   ]
  },
  {
   "cell_type": "markdown",
   "id": "hollow-worker",
   "metadata": {},
   "source": [
    "## Question 07\n"
   ]
  },
  {
   "cell_type": "code",
   "execution_count": 457,
   "id": "prescription-eating",
   "metadata": {},
   "outputs": [],
   "source": [
    "sig=lambda i:sum(divisors(i))   #defining function of divisors\n",
    "sig_list=lambda j: {j: sig(j) for j in [1..j]}\n",
    "sig_db_10=tu_list(10)  #database for 10. sum divisors of 10."
   ]
  },
  {
   "cell_type": "code",
   "execution_count": 458,
   "id": "environmental-explorer",
   "metadata": {},
   "outputs": [
    {
     "data": {
      "text/plain": [
       "{1: 1, 2: 3, 3: 4, 4: 7, 5: 6, 6: 12, 7: 8, 8: 15, 9: 13, 10: 18}"
      ]
     },
     "execution_count": 458,
     "metadata": {},
     "output_type": "execute_result"
    }
   ],
   "source": [
    "sig_db_10"
   ]
  },
  {
   "cell_type": "code",
   "execution_count": 459,
   "id": "employed-occupation",
   "metadata": {},
   "outputs": [],
   "source": [
    "def sigma_n(bound=10):  #defining function of sum divisors'\n",
    "    sig_db_10=sig_list(bound)\n",
    "    list1=[i for i in sig_db if sig_db_10[i]==2*i]  #creates list if even\n",
    "    for k in list1:\n",
    "        dv=divisors(k)\n",
    "        list2=0\n",
    "    for num in dv:\n",
    "        list2 +=1/num\n",
    "    return num, list2"
   ]
  },
  {
   "cell_type": "code",
   "execution_count": 460,
   "id": "confused-replica",
   "metadata": {},
   "outputs": [
    {
     "data": {
      "text/plain": [
       "(6, 2)"
      ]
     },
     "execution_count": 460,
     "metadata": {},
     "output_type": "execute_result"
    }
   ],
   "source": [
    "sigma_n()  # gives n=even and reciprocal is 2."
   ]
  },
  {
   "cell_type": "code",
   "execution_count": 463,
   "id": "natural-substitute",
   "metadata": {},
   "outputs": [
    {
     "data": {
      "text/plain": [
       "18"
      ]
     },
     "execution_count": 463,
     "metadata": {},
     "output_type": "execute_result"
    }
   ],
   "source": [
    "sum(divisors(10))"
   ]
  },
  {
   "cell_type": "code",
   "execution_count": 467,
   "id": "postal-edward",
   "metadata": {},
   "outputs": [],
   "source": [
    "#list(sig_db_10.items())"
   ]
  },
  {
   "cell_type": "code",
   "execution_count": 469,
   "id": "statewide-forty",
   "metadata": {},
   "outputs": [
    {
     "data": {
      "text/html": [
       "<div class=\"notruncate\">\n",
       "<table  class=\"table_form\">\n",
       "<tbody>\n",
       "<tr class =\"row-a\">\n",
       "<td class=\"ch\"><script type=\"math/tex\">n</script></td>\n",
       "<td><script type=\"math/tex\">1</script></td>\n",
       "<td><script type=\"math/tex\">2</script></td>\n",
       "<td><script type=\"math/tex\">3</script></td>\n",
       "<td><script type=\"math/tex\">4</script></td>\n",
       "<td><script type=\"math/tex\">5</script></td>\n",
       "<td><script type=\"math/tex\">6</script></td>\n",
       "<td><script type=\"math/tex\">7</script></td>\n",
       "<td><script type=\"math/tex\">8</script></td>\n",
       "<td><script type=\"math/tex\">9</script></td>\n",
       "<td><script type=\"math/tex\">10</script></td>\n",
       "</tr>\n",
       "<tr class =\"row-b\">\n",
       "<td class=\"ch\"><script type=\"math/tex\">sum</script></td>\n",
       "<td><script type=\"math/tex\">1</script></td>\n",
       "<td><script type=\"math/tex\">3</script></td>\n",
       "<td><script type=\"math/tex\">4</script></td>\n",
       "<td><script type=\"math/tex\">7</script></td>\n",
       "<td><script type=\"math/tex\">6</script></td>\n",
       "<td><script type=\"math/tex\">12</script></td>\n",
       "<td><script type=\"math/tex\">8</script></td>\n",
       "<td><script type=\"math/tex\">15</script></td>\n",
       "<td><script type=\"math/tex\">13</script></td>\n",
       "<td><script type=\"math/tex\">18</script></td>\n",
       "</tr>\n",
       "<tr class =\"row-a\">\n",
       "<td class=\"ch\"> sum&reciprocal</td>\n",
       "<td><script type=\"math/tex\">6</script></td>\n",
       "<td><script type=\"math/tex\">2</script></td>\n",
       "</tr>\n",
       "</tbody>\n",
       "</table>\n",
       "</div>"
      ],
      "text/plain": [
       "  $n$             | 1   2\n",
       "  $sum$           | 1   3\n",
       "   sum&reciprocal | 6   2"
      ]
     },
     "execution_count": 469,
     "metadata": {},
     "output_type": "execute_result"
    }
   ],
   "source": [
    "table([list(sig_db_10.keys()),list(sig_db_10.values()), sigma_n()],header_column=[r'$n$',r\"$sum$\",r\" sum&reciprocal\"])"
   ]
  },
  {
   "cell_type": "code",
   "execution_count": null,
   "id": "completed-liberal",
   "metadata": {},
   "outputs": [],
   "source": []
  }
 ],
 "metadata": {
  "kernelspec": {
   "display_name": "SageMath 9.2",
   "language": "sage",
   "name": "sagemath"
  },
  "language_info": {
   "codemirror_mode": {
    "name": "ipython",
    "version": 3
   },
   "file_extension": ".py",
   "mimetype": "text/x-python",
   "name": "python",
   "nbconvert_exporter": "python",
   "pygments_lexer": "ipython3",
   "version": "3.9.2"
  }
 },
 "nbformat": 4,
 "nbformat_minor": 5
}
